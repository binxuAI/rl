{
 "cells": [
  {
   "cell_type": "markdown",
   "metadata": {},
   "source": [
    "# Tensorflow Tutorial"
   ]
  },
  {
   "cell_type": "markdown",
   "metadata": {},
   "source": [
    "Credit: This tutorial is partially adopted from a tutorial used in Berkeley CS 294-112 course\n",
    "\n",
    "This tutorial will provide a brief overview of the core concepts and functionality of Tensorflow. This tutorial will cover the following:\n",
    "\n",
    "1. Creating a neural network\n",
    "2. Performing computations\n",
    "3. Training a neural network"
   ]
  },
  {
   "cell_type": "code",
   "execution_count": 4,
   "metadata": {},
   "outputs": [],
   "source": [
    "import tensorflow as tf\n",
    "import numpy as np\n",
    "import matplotlib.pyplot as plt\n",
    "import matplotlib.cm as cm\n",
    "import matplotlib.patches as mpatches"
   ]
  },
  {
   "cell_type": "markdown",
   "metadata": {},
   "source": [
    "Check the Tensorflow version"
   ]
  },
  {
   "cell_type": "code",
   "execution_count": 5,
   "metadata": {},
   "outputs": [
    {
     "data": {
      "text/plain": [
       "'1.15.3'"
      ]
     },
     "execution_count": 5,
     "metadata": {},
     "output_type": "execute_result"
    }
   ],
   "source": [
    "tf.__version__\n"
   ]
  },
  {
   "cell_type": "code",
   "execution_count": 6,
   "metadata": {},
   "outputs": [],
   "source": [
    "def tf_reset():\n",
    "    try:\n",
    "        sess.close()\n",
    "    except:\n",
    "        pass\n",
    "    tf.reset_default_graph()\n",
    "    return tf.Session()"
   ]
  },
  {
   "cell_type": "markdown",
   "metadata": {},
   "source": [
    "## 1. Creating a Neural Network\n",
    "\n",
    "We create neural network from the scratch here. Below code describes how to create neural network using tensorflow. For given input placeholder, $x$, the output of neural network is computed as follows:\n",
    "\n",
    "\\begin{align}\n",
    "h1 &= \\sigma(x * W0 + b0) \\\\\n",
    "h2 &= \\sigma(h1 * W1 + b1) \\\\\n",
    "out &= h2 * W2 + b2\n",
    "\\end{align}\n",
    "where $W$ is weight matrix for each hidden layer, $b$ is bias, and $\\sigma$ is activation function.\n"
   ]
  },
  {
   "cell_type": "code",
   "execution_count": 15,
   "metadata": {},
   "outputs": [],
   "source": [
    "tf.reset_default_graph()\n",
    "\n",
    "# number of input features\n",
    "num_features = 5\n",
    "\n",
    "# number of output actions\n",
    "num_outputs = 1\n",
    "\n",
    "# numer of neurons in hidden layer\n",
    "num_hidden = 32\n",
    "\n",
    "# create the placeholders\n",
    "input_ph = tf.placeholder(tf.float32, [None, num_features])\n",
    "\n",
    "weights_0 = tf.Variable(tf.random_normal([num_features,num_hidden]))\n",
    "bias_0 = tf.Variable(tf.random_normal([num_hidden]))\n",
    "weights_1 = tf.Variable(tf.random_normal([num_hidden,num_hidden]))\n",
    "bias_1 = tf.Variable(tf.random_normal([num_hidden]))\n",
    "weights_2 = tf.Variable(tf.random_normal([num_hidden,num_outputs]))\n",
    "bias_2 = tf.Variable(tf.random_normal([num_outputs]))\n",
    "\n",
    "hidden_layer1 = tf.nn.relu(tf.matmul(input_ph,weights_0)+bias_0)\n",
    "hidden_layer2 = tf.nn.relu(tf.matmul(hidden_layer1,weights_1)+bias_1)\n",
    "output_layer = tf.matmul(hidden_layer2,weights_2)+bias_2\n"
   ]
  },
  {
   "cell_type": "markdown",
   "metadata": {},
   "source": [
    "## 2. Performing computations\n",
    "\n",
    "Tensorflow starts with creating session for 1.X version.\n"
   ]
  },
  {
   "cell_type": "code",
   "execution_count": 16,
   "metadata": {
    "scrolled": true
   },
   "outputs": [],
   "source": [
    "sess = tf.Session()"
   ]
  },
  {
   "cell_type": "markdown",
   "metadata": {},
   "source": [
    "We can these execute commands by calling sess.run()"
   ]
  },
  {
   "cell_type": "code",
   "execution_count": 17,
   "metadata": {},
   "outputs": [
    {
     "name": "stdout",
     "output_type": "stream",
     "text": [
      "Tensor(\"add_3:0\", shape=(), dtype=float32)\n",
      "c = 3.0\n"
     ]
    }
   ],
   "source": [
    "a = tf.constant(1.0)\n",
    "b = tf.constant(2.0)\n",
    "c = a + b\n",
    "\n",
    "c_run = sess.run(c)\n",
    "print(c)\n",
    "print('c = {}'.format(c_run))"
   ]
  },
  {
   "cell_type": "markdown",
   "metadata": {},
   "source": [
    "If we are trying to run an operation with variables, we must first initalize the variables"
   ]
  },
  {
   "cell_type": "code",
   "execution_count": 18,
   "metadata": {},
   "outputs": [],
   "source": [
    "init_op = tf.global_variables_initializer()\n",
    "sess.run(init_op)"
   ]
  },
  {
   "cell_type": "markdown",
   "metadata": {},
   "source": [
    "If we want to run commands with placeholders for inputting data, we specify an addition \"feed_dict\" term."
   ]
  },
  {
   "cell_type": "code",
   "execution_count": 19,
   "metadata": {},
   "outputs": [
    {
     "name": "stdout",
     "output_type": "stream",
     "text": [
      "[[ -0.53196734]\n",
      " [-37.963474  ]\n",
      " [-21.387754  ]\n",
      " [-18.46625   ]\n",
      " [-36.519405  ]\n",
      " [  3.5763748 ]\n",
      " [-39.331776  ]\n",
      " [-27.67065   ]\n",
      " [-58.13487   ]\n",
      " [ -9.681015  ]]\n"
     ]
    }
   ],
   "source": [
    "numbers = np.random.randn(10,5)\n",
    "\n",
    "res = sess.run(output_layer, feed_dict={input_ph: numbers})\n",
    "\n",
    "print(res)"
   ]
  },
  {
   "cell_type": "markdown",
   "metadata": {},
   "source": [
    "## 3. Training a neural network\n",
    "\n",
    "In this section, we'll train a neural network on a simple regression problem. First of all, let's create data for a 1-dimensional regression problem:\n"
   ]
  },
  {
   "cell_type": "code",
   "execution_count": 20,
   "metadata": {},
   "outputs": [
    {
     "data": {
      "text/plain": [
       "<matplotlib.collections.PathCollection at 0x137aaab38>"
      ]
     },
     "execution_count": 20,
     "metadata": {},
     "output_type": "execute_result"
    },
    {
     "data": {
      "image/png": "[encoded data removed]",
      "text/plain": [
       "<Figure size 432x288 with 1 Axes>"
      ]
     },
     "metadata": {
      "needs_background": "light"
     },
     "output_type": "display_data"
    }
   ],
   "source": [
    "# generate the data\n",
    "inputs = np.linspace(-2*np.pi, 2*np.pi, 10000)[:, None]\n",
    "outputs = np.cos(inputs) + 0.05 * np.random.normal(size=[len(inputs),1])\n",
    "\n",
    "plt.scatter(inputs[:, 0], outputs[:, 0], s=0.1, color='k', marker='o')"
   ]
  },
  {
   "cell_type": "markdown",
   "metadata": {},
   "source": [
    "The below code creates the inputs, variables, neural network operations, mean-squared-error loss, gradient descent optimizer, and runs the optimizer using minibatches of the data."
   ]
  },
  {
   "cell_type": "code",
   "execution_count": 21,
   "metadata": {},
   "outputs": [
    {
     "name": "stdout",
     "output_type": "stream",
     "text": [
      "0000 mse: 3723.336\n",
      "1000 mse: 0.211\n",
      "2000 mse: 0.011\n",
      "3000 mse: 0.005\n",
      "4000 mse: 0.005\n",
      "5000 mse: 0.003\n",
      "6000 mse: 0.004\n",
      "7000 mse: 0.002\n",
      "8000 mse: 0.003\n",
      "9000 mse: 0.003\n"
     ]
    }
   ],
   "source": [
    "tf.reset_default_graph()\n",
    "\n",
    "def create_model():\n",
    "    # create inputs\n",
    "    input_ph = tf.placeholder(dtype=tf.float32, shape=[None, 1])\n",
    "    output_ph = tf.placeholder(dtype=tf.float32, shape=[None, 1])\n",
    "\n",
    "    num_hidden=32\n",
    "    num_outputs=1\n",
    "    num_inputs = input_ph.shape[1].value\n",
    "    weights_0 = tf.Variable(tf.random_normal([num_inputs,num_hidden]))\n",
    "    bias_0 = tf.Variable(tf.random_normal([num_hidden]))\n",
    "    weights_1 = tf.Variable(tf.random_normal([num_hidden,num_hidden]))\n",
    "    bias_1 = tf.Variable(tf.random_normal([num_hidden]))\n",
    "    weights_2 = tf.Variable(tf.random_normal([num_hidden,num_outputs]))\n",
    "    bias_2 = tf.Variable(tf.random_normal([num_outputs]))\n",
    "\n",
    "    hidden_layer1 = tf.nn.relu(tf.matmul(input_ph,weights_0)+bias_0)\n",
    "    hidden_layer2 = tf.nn.relu(tf.matmul(hidden_layer1,weights_1)+bias_1)\n",
    "    output_layer = tf.matmul(hidden_layer2,weights_2)+bias_2\n",
    "    \n",
    "\n",
    "    return input_ph, output_ph, output_layer\n",
    "\n",
    "input_ph, output_ph, output_pred = create_model()\n",
    "\n",
    "# create a tensorflow session\n",
    "sess = tf.Session()\n",
    "\n",
    "# create loss\n",
    "mse = tf.reduce_mean(0.5 * tf.square(output_pred - output_ph))\n",
    "\n",
    "# create optimizer\n",
    "opt = tf.train.AdamOptimizer().minimize(mse)\n",
    "\n",
    "# initialize variables\n",
    "sess.run(tf.global_variables_initializer())\n",
    "\n",
    "# create saver to save model variables\n",
    "saver = tf.train.Saver()\n",
    "\n",
    "# run training\n",
    "batch_size = 100\n",
    "for training_step in range(10000):\n",
    "    # get a random subset of the training data\n",
    "    indices = np.random.randint(low=0, high=len(inputs), size=batch_size)\n",
    "    input_batch = inputs[indices]\n",
    "    output_batch = outputs[indices]\n",
    "    \n",
    "    # run the optimizer and get the mse\n",
    "    _, mse_run = sess.run([opt, mse], feed_dict={input_ph: input_batch, output_ph: output_batch})\n",
    "    \n",
    "    # print the mse every so often\n",
    "    if training_step % 1000 == 0:\n",
    "        print('{0:04d} mse: {1:.3f}'.format(training_step, mse_run))\n",
    "        saver.save(sess, '/tmp/model.ckpt')"
   ]
  },
  {
   "cell_type": "markdown",
   "metadata": {},
   "source": [
    "Now that the neural network is trained, we can use it to make predictions:"
   ]
  },
  {
   "cell_type": "code",
   "execution_count": 22,
   "metadata": {},
   "outputs": [
    {
     "name": "stdout",
     "output_type": "stream",
     "text": [
      "INFO:tensorflow:Restoring parameters from /tmp/model.ckpt\n"
     ]
    },
    {
     "data": {
      "text/plain": [
       "<matplotlib.collections.PathCollection at 0x13a3977b8>"
      ]
     },
     "execution_count": 22,
     "metadata": {},
     "output_type": "execute_result"
    },
    {
     "data": {
      "image/png": "[encoded data removed]",
      "text/plain": [
       "<Figure size 432x288 with 1 Axes>"
      ]
     },
     "metadata": {
      "needs_background": "light"
     },
     "output_type": "display_data"
    }
   ],
   "source": [
    "sess = tf_reset()\n",
    "\n",
    "# create the model\n",
    "input_ph, output_ph, output_pred = create_model()\n",
    "\n",
    "# restore the saved model\n",
    "saver = tf.train.Saver()\n",
    "saver.restore(sess, \"/tmp/model.ckpt\")\n",
    "\n",
    "output_pred_run = sess.run(output_pred, feed_dict={input_ph: inputs})\n",
    "\n",
    "plt.scatter(inputs[:, 0], outputs[:, 0], c='k', marker='o', s=0.1)\n",
    "plt.scatter(inputs[:, 0], output_pred_run[:, 0], c='r', marker='o', s=0.1)"
   ]
  },
  {
   "cell_type": "markdown",
   "metadata": {},
   "source": [
    "Now you know the basics of Tensorflow!\n"
   ]
  },
  {
   "cell_type": "code",
   "execution_count": null,
   "metadata": {},
   "outputs": [],
   "source": []
  }
 ],
 "metadata": {
  "kernelspec": {
   "display_name": "Python 3",
   "language": "python",
   "name": "python3"
  },
  "language_info": {
   "codemirror_mode": {
    "name": "ipython",
    "version": 3
   },
   "file_extension": ".py",
   "mimetype": "text/x-python",
   "name": "python",
   "nbconvert_exporter": "python",
   "pygments_lexer": "ipython3",
   "version": "3.7.3"
  },
  "widgets": {
   "state": {},
   "version": "1.1.2"
  }
 },
 "nbformat": 4,
 "nbformat_minor": 2
}
